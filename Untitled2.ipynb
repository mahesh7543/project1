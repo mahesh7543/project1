{
 "cells": [
  {
   "cell_type": "code",
   "execution_count": 7,
   "id": "550ecfa4",
   "metadata": {},
   "outputs": [
    {
     "name": "stdout",
     "output_type": "stream",
     "text": [
      "[3 5 7] [5 7 9]\n"
     ]
    }
   ],
   "source": [
    "import numpy as np\n",
    "x=np.array((3,5,7))\n",
    "y=np.array((5,7,9))\n",
    "print((x),(y))"
   ]
  },
  {
   "cell_type": "code",
   "execution_count": 8,
   "id": "8c80e57c",
   "metadata": {},
   "outputs": [
    {
     "name": "stdout",
     "output_type": "stream",
     "text": [
      "[3 5 7] [4 5 7]\n"
     ]
    }
   ],
   "source": [
    "import numpy as np\n",
    "x=np.array((3,5,7))\n",
    "y=np.array((4,5,7))\n",
    "print((x),(y))"
   ]
  },
  {
   "cell_type": "code",
   "execution_count": null,
   "id": "100a0e90",
   "metadata": {},
   "outputs": [],
   "source": []
  }
 ],
 "metadata": {
  "kernelspec": {
   "display_name": "Python 3 (ipykernel)",
   "language": "python",
   "name": "python3"
  },
  "language_info": {
   "codemirror_mode": {
    "name": "ipython",
    "version": 3
   },
   "file_extension": ".py",
   "mimetype": "text/x-python",
   "name": "python",
   "nbconvert_exporter": "python",
   "pygments_lexer": "ipython3",
   "version": "3.11.4"
  }
 },
 "nbformat": 4,
 "nbformat_minor": 5
}
