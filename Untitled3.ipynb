{
 "cells": [
  {
   "cell_type": "code",
   "execution_count": null,
   "id": "fa16aee8",
   "metadata": {},
   "outputs": [],
   "source": [
    "import numpy as geek\n",
    "geek_array = geek.arange(16).reshape(4,4)\n",
    "print(\"geek array   :\\n\", geek_array)\n",
    "print(\"\\nApplying func max :p \\n \",geek.apply_over_axes(geek.max,geek_array,[1,-1]))\n",
    "print(\"\\nApplying func min :\\n\",geek.apply_over_axes(geek.min,geek_array,[1,-1]))\n",
    "print(\"\\nApplyinng\")"
   ]
  }
 ],
 "metadata": {
  "kernelspec": {
   "display_name": "Python 3 (ipykernel)",
   "language": "python",
   "name": "python3"
  },
  "language_info": {
   "codemirror_mode": {
    "name": "ipython",
    "version": 3
   },
   "file_extension": ".py",
   "mimetype": "text/x-python",
   "name": "python",
   "nbconvert_exporter": "python",
   "pygments_lexer": "ipython3",
   "version": "3.11.4"
  }
 },
 "nbformat": 4,
 "nbformat_minor": 5
}
