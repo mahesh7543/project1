{
 "cells": [
  {
   "cell_type": "code",
   "execution_count": 19,
   "id": "375c9380",
   "metadata": {},
   "outputs": [
    {
     "name": "stdout",
     "output_type": "stream",
     "text": [
      "    Name  Age\n",
      "0   john   23\n",
      "1   Anna   29\n",
      "2  Peter   34\n",
      "3  Linda   42\n",
      "\n",
      "Names column;\n",
      "0     john\n",
      "1     Anna\n",
      "2    Peter\n",
      "3    Linda\n",
      "Name: Name, dtype: object\n",
      "\n",
      "People older then 30\n",
      "    Name  Age\n",
      "2  Peter   34\n",
      "3  Linda   42\n"
     ]
    }
   ],
   "source": [
    " import pandas as pd\n",
    "#create a simple DataFrame\n",
    "data={\n",
    "'Name':['john','Anna','Peter','Linda'],\n",
    "'Age':[23,29,34,42]\n",
    "}\n",
    "df=pd.DataFrame(data)\n",
    "#Display the Dataframe\n",
    "print(df)\n",
    "#access a specific column\n",
    "print(\"\\nNames column;\")\n",
    "print(df['Name'])\n",
    "#Filter rows where Age is greater then 30\n",
    "print(\"\\nPeople older then 30\")\n",
    "print(df[df['Age']>30])      \n",
    "\n"
   ]
  },
  {
   "cell_type": "code",
   "execution_count": 43,
   "id": "eb18a27b",
   "metadata": {},
   "outputs": [
    {
     "ename": "SyntaxError",
     "evalue": "invalid syntax (4028342797.py, line 12)",
     "output_type": "error",
     "traceback": [
      "\u001b[1;36m  Cell \u001b[1;32mIn[43], line 12\u001b[1;36m\u001b[0m\n\u001b[1;33m    result matrix=np.(matrix a,matrix b)\u001b[0m\n\u001b[1;37m           ^\u001b[0m\n\u001b[1;31mSyntaxError\u001b[0m\u001b[1;31m:\u001b[0m invalid syntax\n"
     ]
    }
   ],
   "source": [
    "import Numpy as np\n",
    "defmain();\n",
    "#set the randam seed for reproducility np.randam seed (42)\n",
    "#Generate two randam matrices of size (3*3)\n",
    "matrixa=np.randam.randint(1,10(3,3))\n",
    "matrixb=np.randam.randint(1,10(3.3))\n",
    "print(\"matrixA;\")\n",
    "print(matrixa)\n",
    "print(\"\\nmatrixB;\")\n",
    "print(matrixb)\n",
    "#perfom matrix multiplicationresult \n",
    "result matrix=np.(matrix a,matrix b)\n",
    "print(\"\\nResult of matrix A*matrix B\")\n",
    "#calculate the sum of all elements in the resulting matrix \n",
    "matrix sum=np.sum(result matrix)\n",
    "print(f\"\\nsum of all elements in the result matrix;{matrix sum}\")\n",
    "if name =\" main\";\n",
    "main();"
   ]
  },
  {
   "cell_type": "code",
   "execution_count": null,
   "id": "27f5f83b",
   "metadata": {},
   "outputs": [],
   "source": []
  }
 ],
 "metadata": {
  "kernelspec": {
   "display_name": "Python 3 (ipykernel)",
   "language": "python",
   "name": "python3"
  },
  "language_info": {
   "codemirror_mode": {
    "name": "ipython",
    "version": 3
   },
   "file_extension": ".py",
   "mimetype": "text/x-python",
   "name": "python",
   "nbconvert_exporter": "python",
   "pygments_lexer": "ipython3",
   "version": "3.11.4"
  }
 },
 "nbformat": 4,
 "nbformat_minor": 5
}
