{
 "cells": [
  {
   "cell_type": "code",
   "execution_count": 1,
   "id": "d1f5a7f5",
   "metadata": {},
   "outputs": [
    {
     "ename": "SyntaxError",
     "evalue": "invalid syntax (3681094281.py, line 2)",
     "output_type": "error",
     "traceback": [
      "\u001b[1;36m  Cell \u001b[1;32mIn[1], line 2\u001b[1;36m\u001b[0m\n\u001b[1;33m    defr my_func(x,ky):\u001b[0m\n\u001b[1;37m         ^\u001b[0m\n\u001b[1;31mSyntaxError\u001b[0m\u001b[1;31m:\u001b[0m invalid syntax\n"
     ]
    }
   ],
   "source": [
    "import numpy as np\n",
    "defr my_func(x,ky):\n",
    "    #Return x-y if x>y, otherwise return x+y \n",
    "        if x>y:\n",
    "            return x-y\n",
    "        else:\n",
    "            return x+y\n",
    "        vec_fun =np.vectorize(my_func)\n",
    "        vec_func([2,4,6,8],4)"
   ]
  },
  {
   "cell_type": "code",
   "execution_count": null,
   "id": "c116f5c2",
   "metadata": {},
   "outputs": [],
   "source": []
  }
 ],
 "metadata": {
  "kernelspec": {
   "display_name": "Python 3 (ipykernel)",
   "language": "python",
   "name": "python3"
  },
  "language_info": {
   "codemirror_mode": {
    "name": "ipython",
    "version": 3
   },
   "file_extension": ".py",
   "mimetype": "text/x-python",
   "name": "python",
   "nbconvert_exporter": "python",
   "pygments_lexer": "ipython3",
   "version": "3.11.4"
  }
 },
 "nbformat": 4,
 "nbformat_minor": 5
}
